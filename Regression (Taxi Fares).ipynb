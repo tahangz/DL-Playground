{
 "cells": [
  {
   "cell_type": "markdown",
   "metadata": {},
   "source": [
    "# Regression with Neural Networks\n",
    "\n",
    "A taxi company faces customer complaints about unpredictable fares. To solve this, you plan a mobile app that estimates ride costs in real time. Using historical New York City taxi-fare data, you will train a neural network to predict fares based on factors like time of day, pickup and drop-off locations, and trip details.\n"
   ]
  },
  {
   "cell_type": "markdown",
   "metadata": {},
   "source": [
    "## Load and prepare data\n",
    "\n",
    "Start by loading the dataset and shaping it so that it's suitable for use in machine learning. This dataset is a subset of a much larger dataset containing more than 100 million rows. Recently, the larger dataset was used in Kaggle's [New York City Taxi Fare Prediction](https://www.kaggle.com/c/new-york-city-taxi-fare-prediction) competition."
   ]
  },
  {
   "cell_type": "code",
   "execution_count": 1,
   "metadata": {},
   "outputs": [
    {
     "data": {
      "text/html": [
       "<div>\n",
       "<style scoped>\n",
       "    .dataframe tbody tr th:only-of-type {\n",
       "        vertical-align: middle;\n",
       "    }\n",
       "\n",
       "    .dataframe tbody tr th {\n",
       "        vertical-align: top;\n",
       "    }\n",
       "\n",
       "    .dataframe thead th {\n",
       "        text-align: right;\n",
       "    }\n",
       "</style>\n",
       "<table border=\"1\" class=\"dataframe\">\n",
       "  <thead>\n",
       "    <tr style=\"text-align: right;\">\n",
       "      <th></th>\n",
       "      <th>key</th>\n",
       "      <th>fare_amount</th>\n",
       "      <th>pickup_datetime</th>\n",
       "      <th>pickup_longitude</th>\n",
       "      <th>pickup_latitude</th>\n",
       "      <th>dropoff_longitude</th>\n",
       "      <th>dropoff_latitude</th>\n",
       "      <th>passenger_count</th>\n",
       "    </tr>\n",
       "  </thead>\n",
       "  <tbody>\n",
       "    <tr>\n",
       "      <th>0</th>\n",
       "      <td>2014-06-15 17:11:00.000000107</td>\n",
       "      <td>7.0</td>\n",
       "      <td>2014-06-15 17:11:00+00:00</td>\n",
       "      <td>-73.995420</td>\n",
       "      <td>40.759662</td>\n",
       "      <td>-73.987607</td>\n",
       "      <td>40.751247</td>\n",
       "      <td>1</td>\n",
       "    </tr>\n",
       "    <tr>\n",
       "      <th>1</th>\n",
       "      <td>2011-03-14 22:43:00.00000095</td>\n",
       "      <td>4.9</td>\n",
       "      <td>2011-03-14 22:43:00+00:00</td>\n",
       "      <td>-73.993552</td>\n",
       "      <td>40.731110</td>\n",
       "      <td>-73.998497</td>\n",
       "      <td>40.737200</td>\n",
       "      <td>5</td>\n",
       "    </tr>\n",
       "    <tr>\n",
       "      <th>2</th>\n",
       "      <td>2011-02-14 15:14:00.00000067</td>\n",
       "      <td>6.1</td>\n",
       "      <td>2011-02-14 15:14:00+00:00</td>\n",
       "      <td>-73.972380</td>\n",
       "      <td>40.749527</td>\n",
       "      <td>-73.990638</td>\n",
       "      <td>40.745328</td>\n",
       "      <td>1</td>\n",
       "    </tr>\n",
       "    <tr>\n",
       "      <th>3</th>\n",
       "      <td>2009-10-29 11:29:00.00000040</td>\n",
       "      <td>6.9</td>\n",
       "      <td>2009-10-29 11:29:00+00:00</td>\n",
       "      <td>-73.973703</td>\n",
       "      <td>40.763542</td>\n",
       "      <td>-73.984253</td>\n",
       "      <td>40.758603</td>\n",
       "      <td>5</td>\n",
       "    </tr>\n",
       "    <tr>\n",
       "      <th>4</th>\n",
       "      <td>2011-07-02 10:38:00.00000028</td>\n",
       "      <td>10.5</td>\n",
       "      <td>2011-07-02 10:38:00+00:00</td>\n",
       "      <td>-73.921262</td>\n",
       "      <td>40.743615</td>\n",
       "      <td>-73.967383</td>\n",
       "      <td>40.765162</td>\n",
       "      <td>1</td>\n",
       "    </tr>\n",
       "  </tbody>\n",
       "</table>\n",
       "</div>"
      ],
      "text/plain": [
       "                             key  fare_amount           pickup_datetime  \\\n",
       "0  2014-06-15 17:11:00.000000107          7.0 2014-06-15 17:11:00+00:00   \n",
       "1   2011-03-14 22:43:00.00000095          4.9 2011-03-14 22:43:00+00:00   \n",
       "2   2011-02-14 15:14:00.00000067          6.1 2011-02-14 15:14:00+00:00   \n",
       "3   2009-10-29 11:29:00.00000040          6.9 2009-10-29 11:29:00+00:00   \n",
       "4   2011-07-02 10:38:00.00000028         10.5 2011-07-02 10:38:00+00:00   \n",
       "\n",
       "   pickup_longitude  pickup_latitude  dropoff_longitude  dropoff_latitude  \\\n",
       "0        -73.995420        40.759662         -73.987607         40.751247   \n",
       "1        -73.993552        40.731110         -73.998497         40.737200   \n",
       "2        -73.972380        40.749527         -73.990638         40.745328   \n",
       "3        -73.973703        40.763542         -73.984253         40.758603   \n",
       "4        -73.921262        40.743615         -73.967383         40.765162   \n",
       "\n",
       "   passenger_count  \n",
       "0                1  \n",
       "1                5  \n",
       "2                1  \n",
       "3                5  \n",
       "4                1  "
      ]
     },
     "execution_count": 1,
     "metadata": {},
     "output_type": "execute_result"
    }
   ],
   "source": [
    "import pandas as pd\n",
    "\n",
    "df = pd.read_csv('Data/taxi-fares.csv', parse_dates=['pickup_datetime'])\n",
    "df.head()"
   ]
  },
  {
   "cell_type": "markdown",
   "metadata": {},
   "source": [
    "The data requires a fair amount of prep work before it’s useful — something that is not uncommon in machine learning. Use the following statements to transform the raw dataset into one suitable for training."
   ]
  },
  {
   "cell_type": "code",
   "execution_count": 2,
   "metadata": {},
   "outputs": [
    {
     "data": {
      "text/html": [
       "<div>\n",
       "<style scoped>\n",
       "    .dataframe tbody tr th:only-of-type {\n",
       "        vertical-align: middle;\n",
       "    }\n",
       "\n",
       "    .dataframe tbody tr th {\n",
       "        vertical-align: top;\n",
       "    }\n",
       "\n",
       "    .dataframe thead th {\n",
       "        text-align: right;\n",
       "    }\n",
       "</style>\n",
       "<table border=\"1\" class=\"dataframe\">\n",
       "  <thead>\n",
       "    <tr style=\"text-align: right;\">\n",
       "      <th></th>\n",
       "      <th>fare_amount</th>\n",
       "      <th>day_of_week</th>\n",
       "      <th>pickup_time</th>\n",
       "      <th>distance</th>\n",
       "    </tr>\n",
       "  </thead>\n",
       "  <tbody>\n",
       "    <tr>\n",
       "      <th>2</th>\n",
       "      <td>6.1</td>\n",
       "      <td>0.0</td>\n",
       "      <td>15.0</td>\n",
       "      <td>1.038136</td>\n",
       "    </tr>\n",
       "    <tr>\n",
       "      <th>4</th>\n",
       "      <td>10.5</td>\n",
       "      <td>5.0</td>\n",
       "      <td>10.0</td>\n",
       "      <td>2.924341</td>\n",
       "    </tr>\n",
       "    <tr>\n",
       "      <th>5</th>\n",
       "      <td>15.3</td>\n",
       "      <td>4.0</td>\n",
       "      <td>20.0</td>\n",
       "      <td>4.862893</td>\n",
       "    </tr>\n",
       "    <tr>\n",
       "      <th>8</th>\n",
       "      <td>7.7</td>\n",
       "      <td>5.0</td>\n",
       "      <td>1.0</td>\n",
       "      <td>2.603493</td>\n",
       "    </tr>\n",
       "    <tr>\n",
       "      <th>9</th>\n",
       "      <td>8.9</td>\n",
       "      <td>3.0</td>\n",
       "      <td>16.0</td>\n",
       "      <td>1.365739</td>\n",
       "    </tr>\n",
       "  </tbody>\n",
       "</table>\n",
       "</div>"
      ],
      "text/plain": [
       "   fare_amount  day_of_week  pickup_time  distance\n",
       "2          6.1          0.0         15.0  1.038136\n",
       "4         10.5          5.0         10.0  2.924341\n",
       "5         15.3          4.0         20.0  4.862893\n",
       "8          7.7          5.0          1.0  2.603493\n",
       "9          8.9          3.0         16.0  1.365739"
      ]
     },
     "execution_count": 2,
     "metadata": {},
     "output_type": "execute_result"
    }
   ],
   "source": [
    "from math import sqrt\n",
    " \n",
    "df = df[df['passenger_count'] == 1]\n",
    "df = df.drop(['key', 'passenger_count'], axis=1)\n",
    " \n",
    "for i, row in df.iterrows():\n",
    "    dt = row['pickup_datetime']\n",
    "    df.at[i, 'day_of_week'] = dt.weekday()\n",
    "    df.at[i, 'pickup_time'] = dt.hour\n",
    "    x = (row['dropoff_longitude'] - row['pickup_longitude']) * 54.6\n",
    "    y = (row['dropoff_latitude'] - row['pickup_latitude']) * 69.0\n",
    "    distance = sqrt(x**2 + y**2)\n",
    "    df.at[i, 'distance'] = distance\n",
    " \n",
    "df.drop(['pickup_datetime', 'pickup_longitude', 'pickup_latitude',\n",
    "         'dropoff_longitude', 'dropoff_latitude'], axis=1, inplace=True)\n",
    " \n",
    "df = df[(df['distance'] > 1.0) & (df['distance'] < 10.0)]\n",
    "df = df[(df['fare_amount'] > 0.0) & (df['fare_amount'] < 50.0)]\n",
    "df.head()"
   ]
  },
  {
   "cell_type": "markdown",
   "metadata": {},
   "source": [
    "The resulting dataset contains columns for the day of the week (0-6, where 0 corresponds to Monday), the hour of day (0-23), and the distance traveled in miles, and from which outliers have been removed."
   ]
  },
  {
   "cell_type": "markdown",
   "metadata": {},
   "source": [
    "# Train a neural network\n",
    "\n",
    "Now it's time build a neural network and train it with the data prepared in the previous exercise. We'll create two hidden layers with 512 neurons each and an input layer that accepts three values: distance, the day of the week, and the time of day. Since the model is designed to predict a fare amount, the output layer will have one neuron."
   ]
  },
  {
   "cell_type": "code",
   "execution_count": 3,
   "metadata": {},
   "outputs": [
    {
     "name": "stdout",
     "output_type": "stream",
     "text": [
      "Model: \"sequential\"\n",
      "_________________________________________________________________\n",
      " Layer (type)                Output Shape              Param #   \n",
      "=================================================================\n",
      " dense (Dense)               (None, 512)               2048      \n",
      "                                                                 \n",
      " dense_1 (Dense)             (None, 512)               262656    \n",
      "                                                                 \n",
      " dense_2 (Dense)             (None, 1)                 513       \n",
      "                                                                 \n",
      "=================================================================\n",
      "Total params: 265,217\n",
      "Trainable params: 265,217\n",
      "Non-trainable params: 0\n",
      "_________________________________________________________________\n"
     ]
    }
   ],
   "source": [
    "from tensorflow.keras.models import Sequential\n",
    "from tensorflow.keras.layers import Dense\n",
    " \n",
    "model = Sequential()\n",
    "model.add(Dense(512, activation='relu', input_dim=3))\n",
    "model.add(Dense(512, activation='relu'))\n",
    "model.add(Dense(1))\n",
    "model.compile(optimizer='adam', loss='mae', metrics=['mae'])\n",
    "model.summary()"
   ]
  },
  {
   "cell_type": "markdown",
   "metadata": {},
   "source": [
    "Extract the feature columns and the label column and train the model."
   ]
  },
  {
   "cell_type": "code",
   "execution_count": 4,
   "metadata": {},
   "outputs": [
    {
     "name": "stdout",
     "output_type": "stream",
     "text": [
      "Epoch 1/100\n",
      "187/187 [==============================] - 1s 3ms/step - loss: 2.8597 - mae: 2.8597 - val_loss: 2.5236 - val_mae: 2.5236\n",
      "Epoch 2/100\n",
      "187/187 [==============================] - 0s 3ms/step - loss: 2.4135 - mae: 2.4135 - val_loss: 2.3684 - val_mae: 2.3684\n",
      "Epoch 3/100\n",
      "187/187 [==============================] - 0s 3ms/step - loss: 2.3975 - mae: 2.3975 - val_loss: 2.3539 - val_mae: 2.3539\n",
      "Epoch 4/100\n",
      "187/187 [==============================] - 0s 3ms/step - loss: 2.3747 - mae: 2.3747 - val_loss: 2.3588 - val_mae: 2.3588\n",
      "Epoch 5/100\n",
      "187/187 [==============================] - 0s 3ms/step - loss: 2.3708 - mae: 2.3708 - val_loss: 2.3589 - val_mae: 2.3589\n",
      "Epoch 6/100\n",
      "187/187 [==============================] - 0s 3ms/step - loss: 2.3495 - mae: 2.3495 - val_loss: 2.3378 - val_mae: 2.3378\n",
      "Epoch 7/100\n",
      "187/187 [==============================] - 0s 3ms/step - loss: 2.3959 - mae: 2.3959 - val_loss: 2.3352 - val_mae: 2.3352\n",
      "Epoch 8/100\n",
      "187/187 [==============================] - 0s 3ms/step - loss: 2.3525 - mae: 2.3525 - val_loss: 2.5681 - val_mae: 2.5681\n",
      "Epoch 9/100\n",
      "187/187 [==============================] - 0s 3ms/step - loss: 2.3643 - mae: 2.3643 - val_loss: 2.3888 - val_mae: 2.3888\n",
      "Epoch 10/100\n",
      "187/187 [==============================] - 1s 3ms/step - loss: 2.3620 - mae: 2.3620 - val_loss: 2.3797 - val_mae: 2.3797\n",
      "Epoch 11/100\n",
      "187/187 [==============================] - 0s 3ms/step - loss: 2.3522 - mae: 2.3522 - val_loss: 2.3389 - val_mae: 2.3389\n",
      "Epoch 12/100\n",
      "187/187 [==============================] - 0s 3ms/step - loss: 2.3445 - mae: 2.3445 - val_loss: 2.3302 - val_mae: 2.3302\n",
      "Epoch 13/100\n",
      "187/187 [==============================] - 0s 3ms/step - loss: 2.3566 - mae: 2.3566 - val_loss: 2.4095 - val_mae: 2.4095\n",
      "Epoch 14/100\n",
      "187/187 [==============================] - 1s 3ms/step - loss: 2.3466 - mae: 2.3466 - val_loss: 2.3285 - val_mae: 2.3285\n",
      "Epoch 15/100\n",
      "187/187 [==============================] - 1s 3ms/step - loss: 2.3319 - mae: 2.3319 - val_loss: 2.3725 - val_mae: 2.3725\n",
      "Epoch 16/100\n",
      "187/187 [==============================] - 0s 3ms/step - loss: 2.3389 - mae: 2.3389 - val_loss: 2.3374 - val_mae: 2.3374\n",
      "Epoch 17/100\n",
      "187/187 [==============================] - 1s 3ms/step - loss: 2.3331 - mae: 2.3331 - val_loss: 2.3401 - val_mae: 2.3401\n",
      "Epoch 18/100\n",
      "187/187 [==============================] - 1s 3ms/step - loss: 2.3583 - mae: 2.3583 - val_loss: 2.3361 - val_mae: 2.3361\n",
      "Epoch 19/100\n",
      "187/187 [==============================] - 0s 3ms/step - loss: 2.3258 - mae: 2.3258 - val_loss: 2.3221 - val_mae: 2.3221\n",
      "Epoch 20/100\n",
      "187/187 [==============================] - 1s 3ms/step - loss: 2.3238 - mae: 2.3238 - val_loss: 2.3196 - val_mae: 2.3196\n",
      "Epoch 21/100\n",
      "187/187 [==============================] - 1s 3ms/step - loss: 2.3409 - mae: 2.3409 - val_loss: 2.3317 - val_mae: 2.3317\n",
      "Epoch 22/100\n",
      "187/187 [==============================] - 1s 3ms/step - loss: 2.3262 - mae: 2.3262 - val_loss: 2.3128 - val_mae: 2.3128\n",
      "Epoch 23/100\n",
      "187/187 [==============================] - 0s 3ms/step - loss: 2.3226 - mae: 2.3226 - val_loss: 2.3194 - val_mae: 2.3194\n",
      "Epoch 24/100\n",
      "187/187 [==============================] - 1s 3ms/step - loss: 2.3182 - mae: 2.3182 - val_loss: 2.3109 - val_mae: 2.3109\n",
      "Epoch 25/100\n",
      "187/187 [==============================] - 0s 3ms/step - loss: 2.3287 - mae: 2.3287 - val_loss: 2.3489 - val_mae: 2.3489\n",
      "Epoch 26/100\n",
      "187/187 [==============================] - 1s 3ms/step - loss: 2.3198 - mae: 2.3198 - val_loss: 2.4180 - val_mae: 2.4180\n",
      "Epoch 27/100\n",
      "187/187 [==============================] - 1s 3ms/step - loss: 2.3264 - mae: 2.3264 - val_loss: 2.3803 - val_mae: 2.3803\n",
      "Epoch 28/100\n",
      "187/187 [==============================] - 0s 3ms/step - loss: 2.3335 - mae: 2.3335 - val_loss: 2.3131 - val_mae: 2.3131\n",
      "Epoch 29/100\n",
      "187/187 [==============================] - 1s 3ms/step - loss: 2.3297 - mae: 2.3297 - val_loss: 2.3275 - val_mae: 2.3275\n",
      "Epoch 30/100\n",
      "187/187 [==============================] - 0s 3ms/step - loss: 2.3332 - mae: 2.3332 - val_loss: 2.2934 - val_mae: 2.2934\n",
      "Epoch 31/100\n",
      "187/187 [==============================] - 1s 3ms/step - loss: 2.3201 - mae: 2.3201 - val_loss: 2.3168 - val_mae: 2.3168\n",
      "Epoch 32/100\n",
      "187/187 [==============================] - 1s 3ms/step - loss: 2.3234 - mae: 2.3234 - val_loss: 2.3103 - val_mae: 2.3103\n",
      "Epoch 33/100\n",
      "187/187 [==============================] - 1s 3ms/step - loss: 2.3117 - mae: 2.3117 - val_loss: 2.3075 - val_mae: 2.3075\n",
      "Epoch 34/100\n",
      "187/187 [==============================] - 0s 3ms/step - loss: 2.3113 - mae: 2.3113 - val_loss: 2.3068 - val_mae: 2.3068\n",
      "Epoch 35/100\n",
      "187/187 [==============================] - 1s 3ms/step - loss: 2.3200 - mae: 2.3200 - val_loss: 2.3537 - val_mae: 2.3537\n",
      "Epoch 36/100\n",
      "187/187 [==============================] - 1s 3ms/step - loss: 2.3190 - mae: 2.3190 - val_loss: 2.2958 - val_mae: 2.2958\n",
      "Epoch 37/100\n",
      "187/187 [==============================] - 1s 3ms/step - loss: 2.3059 - mae: 2.3059 - val_loss: 2.3063 - val_mae: 2.3063\n",
      "Epoch 38/100\n",
      "187/187 [==============================] - 1s 3ms/step - loss: 2.3081 - mae: 2.3081 - val_loss: 2.3598 - val_mae: 2.3598\n",
      "Epoch 39/100\n",
      "187/187 [==============================] - 1s 3ms/step - loss: 2.3106 - mae: 2.3106 - val_loss: 2.2999 - val_mae: 2.2999\n",
      "Epoch 40/100\n",
      "187/187 [==============================] - 0s 3ms/step - loss: 2.3122 - mae: 2.3122 - val_loss: 2.3114 - val_mae: 2.3114\n",
      "Epoch 41/100\n",
      "187/187 [==============================] - 1s 3ms/step - loss: 2.3031 - mae: 2.3031 - val_loss: 2.2779 - val_mae: 2.2779\n",
      "Epoch 42/100\n",
      "187/187 [==============================] - 0s 3ms/step - loss: 2.3019 - mae: 2.3019 - val_loss: 2.2888 - val_mae: 2.2888\n",
      "Epoch 43/100\n",
      "187/187 [==============================] - 1s 3ms/step - loss: 2.3108 - mae: 2.3108 - val_loss: 2.2767 - val_mae: 2.2767\n",
      "Epoch 44/100\n",
      "187/187 [==============================] - 0s 3ms/step - loss: 2.3078 - mae: 2.3078 - val_loss: 2.3384 - val_mae: 2.3384\n",
      "Epoch 45/100\n",
      "187/187 [==============================] - 1s 3ms/step - loss: 2.2961 - mae: 2.2961 - val_loss: 2.2877 - val_mae: 2.2877\n",
      "Epoch 46/100\n",
      "187/187 [==============================] - 1s 3ms/step - loss: 2.3029 - mae: 2.3029 - val_loss: 2.2770 - val_mae: 2.2770\n",
      "Epoch 47/100\n",
      "187/187 [==============================] - 1s 3ms/step - loss: 2.3015 - mae: 2.3015 - val_loss: 2.3138 - val_mae: 2.3138\n",
      "Epoch 48/100\n",
      "187/187 [==============================] - 1s 3ms/step - loss: 2.2921 - mae: 2.2921 - val_loss: 2.2833 - val_mae: 2.2833\n",
      "Epoch 49/100\n",
      "187/187 [==============================] - 1s 3ms/step - loss: 2.3003 - mae: 2.3003 - val_loss: 2.2932 - val_mae: 2.2932\n",
      "Epoch 50/100\n",
      "187/187 [==============================] - 1s 3ms/step - loss: 2.2916 - mae: 2.2916 - val_loss: 2.3513 - val_mae: 2.3513\n",
      "Epoch 51/100\n",
      "187/187 [==============================] - 1s 3ms/step - loss: 2.2977 - mae: 2.2977 - val_loss: 2.2753 - val_mae: 2.2753\n",
      "Epoch 52/100\n",
      "187/187 [==============================] - 1s 3ms/step - loss: 2.2920 - mae: 2.2920 - val_loss: 2.2892 - val_mae: 2.2892\n",
      "Epoch 53/100\n",
      "187/187 [==============================] - 1s 3ms/step - loss: 2.2960 - mae: 2.2960 - val_loss: 2.2691 - val_mae: 2.2691\n",
      "Epoch 54/100\n",
      "187/187 [==============================] - 0s 3ms/step - loss: 2.2960 - mae: 2.2960 - val_loss: 2.2657 - val_mae: 2.2657\n",
      "Epoch 55/100\n",
      "187/187 [==============================] - 1s 3ms/step - loss: 2.2937 - mae: 2.2937 - val_loss: 2.2683 - val_mae: 2.2683\n",
      "Epoch 56/100\n",
      "187/187 [==============================] - 1s 3ms/step - loss: 2.2910 - mae: 2.2910 - val_loss: 2.2630 - val_mae: 2.2630\n",
      "Epoch 57/100\n",
      "187/187 [==============================] - 1s 3ms/step - loss: 2.2896 - mae: 2.2896 - val_loss: 2.2959 - val_mae: 2.2959\n",
      "Epoch 58/100\n",
      "187/187 [==============================] - 1s 3ms/step - loss: 2.2876 - mae: 2.2876 - val_loss: 2.2672 - val_mae: 2.2672\n",
      "Epoch 59/100\n",
      "187/187 [==============================] - 1s 3ms/step - loss: 2.2882 - mae: 2.2882 - val_loss: 2.2590 - val_mae: 2.2590\n",
      "Epoch 60/100\n",
      "187/187 [==============================] - 1s 3ms/step - loss: 2.2957 - mae: 2.2957 - val_loss: 2.2893 - val_mae: 2.2893\n",
      "Epoch 61/100\n",
      "187/187 [==============================] - 1s 3ms/step - loss: 2.2847 - mae: 2.2847 - val_loss: 2.2775 - val_mae: 2.2775\n",
      "Epoch 62/100\n"
     ]
    },
    {
     "name": "stdout",
     "output_type": "stream",
     "text": [
      "187/187 [==============================] - 1s 3ms/step - loss: 2.2909 - mae: 2.2909 - val_loss: 2.2610 - val_mae: 2.2610\n",
      "Epoch 63/100\n",
      "187/187 [==============================] - 1s 3ms/step - loss: 2.2849 - mae: 2.2849 - val_loss: 2.2698 - val_mae: 2.2698\n",
      "Epoch 64/100\n",
      "187/187 [==============================] - 1s 3ms/step - loss: 2.2870 - mae: 2.2870 - val_loss: 2.3195 - val_mae: 2.3195\n",
      "Epoch 65/100\n",
      "187/187 [==============================] - 1s 3ms/step - loss: 2.2953 - mae: 2.2953 - val_loss: 2.2696 - val_mae: 2.2696\n",
      "Epoch 66/100\n",
      "187/187 [==============================] - 1s 3ms/step - loss: 2.2854 - mae: 2.2854 - val_loss: 2.2631 - val_mae: 2.2631\n",
      "Epoch 67/100\n",
      "187/187 [==============================] - 1s 3ms/step - loss: 2.2788 - mae: 2.2788 - val_loss: 2.2659 - val_mae: 2.2659\n",
      "Epoch 68/100\n",
      "187/187 [==============================] - 1s 3ms/step - loss: 2.2867 - mae: 2.2867 - val_loss: 2.2597 - val_mae: 2.2597\n",
      "Epoch 69/100\n",
      "187/187 [==============================] - 0s 3ms/step - loss: 2.2837 - mae: 2.2837 - val_loss: 2.3258 - val_mae: 2.3258\n",
      "Epoch 70/100\n",
      "187/187 [==============================] - 0s 3ms/step - loss: 2.2895 - mae: 2.2895 - val_loss: 2.2737 - val_mae: 2.2737\n",
      "Epoch 71/100\n",
      "187/187 [==============================] - 1s 3ms/step - loss: 2.2764 - mae: 2.2764 - val_loss: 2.2739 - val_mae: 2.2739\n",
      "Epoch 72/100\n",
      "187/187 [==============================] - 1s 3ms/step - loss: 2.2796 - mae: 2.2796 - val_loss: 2.2644 - val_mae: 2.2644\n",
      "Epoch 73/100\n",
      "187/187 [==============================] - 1s 3ms/step - loss: 2.2912 - mae: 2.2912 - val_loss: 2.2855 - val_mae: 2.2855\n",
      "Epoch 74/100\n",
      "187/187 [==============================] - 1s 3ms/step - loss: 2.2787 - mae: 2.2787 - val_loss: 2.2662 - val_mae: 2.2662\n",
      "Epoch 75/100\n",
      "187/187 [==============================] - 1s 3ms/step - loss: 2.2874 - mae: 2.2874 - val_loss: 2.2683 - val_mae: 2.2683\n",
      "Epoch 76/100\n",
      "187/187 [==============================] - 1s 3ms/step - loss: 2.2782 - mae: 2.2782 - val_loss: 2.2546 - val_mae: 2.2546\n",
      "Epoch 77/100\n",
      "187/187 [==============================] - 1s 3ms/step - loss: 2.2968 - mae: 2.2968 - val_loss: 2.2578 - val_mae: 2.2578\n",
      "Epoch 78/100\n",
      "187/187 [==============================] - 1s 3ms/step - loss: 2.2769 - mae: 2.2769 - val_loss: 2.2773 - val_mae: 2.2773\n",
      "Epoch 79/100\n",
      "187/187 [==============================] - 1s 3ms/step - loss: 2.2824 - mae: 2.2824 - val_loss: 2.2562 - val_mae: 2.2562\n",
      "Epoch 80/100\n",
      "187/187 [==============================] - 1s 3ms/step - loss: 2.2785 - mae: 2.2785 - val_loss: 2.2744 - val_mae: 2.2744\n",
      "Epoch 81/100\n",
      "187/187 [==============================] - 1s 3ms/step - loss: 2.2847 - mae: 2.2847 - val_loss: 2.2655 - val_mae: 2.2655\n",
      "Epoch 82/100\n",
      "187/187 [==============================] - 1s 3ms/step - loss: 2.2796 - mae: 2.2796 - val_loss: 2.2879 - val_mae: 2.2879\n",
      "Epoch 83/100\n",
      "187/187 [==============================] - 1s 3ms/step - loss: 2.2872 - mae: 2.2872 - val_loss: 2.2701 - val_mae: 2.2701\n",
      "Epoch 84/100\n",
      "187/187 [==============================] - 1s 3ms/step - loss: 2.2782 - mae: 2.2782 - val_loss: 2.3212 - val_mae: 2.3212\n",
      "Epoch 85/100\n",
      "187/187 [==============================] - 1s 3ms/step - loss: 2.2913 - mae: 2.2913 - val_loss: 2.2984 - val_mae: 2.2984\n",
      "Epoch 86/100\n",
      "187/187 [==============================] - 1s 3ms/step - loss: 2.2816 - mae: 2.2816 - val_loss: 2.2625 - val_mae: 2.2625\n",
      "Epoch 87/100\n",
      "187/187 [==============================] - 1s 3ms/step - loss: 2.2770 - mae: 2.2770 - val_loss: 2.3371 - val_mae: 2.3371\n",
      "Epoch 88/100\n",
      "187/187 [==============================] - 1s 3ms/step - loss: 2.2805 - mae: 2.2805 - val_loss: 2.2573 - val_mae: 2.2573\n",
      "Epoch 89/100\n",
      "187/187 [==============================] - 1s 3ms/step - loss: 2.2888 - mae: 2.2888 - val_loss: 2.2620 - val_mae: 2.2620\n",
      "Epoch 90/100\n",
      "187/187 [==============================] - 1s 3ms/step - loss: 2.2798 - mae: 2.2798 - val_loss: 2.2586 - val_mae: 2.2586\n",
      "Epoch 91/100\n",
      "187/187 [==============================] - 1s 3ms/step - loss: 2.2776 - mae: 2.2776 - val_loss: 2.2683 - val_mae: 2.2683\n",
      "Epoch 92/100\n",
      "187/187 [==============================] - 1s 3ms/step - loss: 2.2732 - mae: 2.2732 - val_loss: 2.2648 - val_mae: 2.2648\n",
      "Epoch 93/100\n",
      "187/187 [==============================] - 1s 3ms/step - loss: 2.2778 - mae: 2.2778 - val_loss: 2.2676 - val_mae: 2.2676\n",
      "Epoch 94/100\n",
      "187/187 [==============================] - 1s 3ms/step - loss: 2.2756 - mae: 2.2756 - val_loss: 2.2659 - val_mae: 2.2659\n",
      "Epoch 95/100\n",
      "187/187 [==============================] - 1s 3ms/step - loss: 2.2820 - mae: 2.2820 - val_loss: 2.3019 - val_mae: 2.3019\n",
      "Epoch 96/100\n",
      "187/187 [==============================] - 1s 3ms/step - loss: 2.2789 - mae: 2.2789 - val_loss: 2.2672 - val_mae: 2.2672\n",
      "Epoch 97/100\n",
      "187/187 [==============================] - 1s 3ms/step - loss: 2.2723 - mae: 2.2723 - val_loss: 2.2823 - val_mae: 2.2823\n",
      "Epoch 98/100\n",
      "187/187 [==============================] - 1s 3ms/step - loss: 2.2801 - mae: 2.2801 - val_loss: 2.2742 - val_mae: 2.2742\n",
      "Epoch 99/100\n",
      "187/187 [==============================] - 1s 3ms/step - loss: 2.2886 - mae: 2.2886 - val_loss: 2.2488 - val_mae: 2.2488\n",
      "Epoch 100/100\n",
      "187/187 [==============================] - 1s 3ms/step - loss: 2.2754 - mae: 2.2754 - val_loss: 2.2635 - val_mae: 2.2635\n"
     ]
    }
   ],
   "source": [
    "x = df.drop('fare_amount', axis=1)\n",
    "y = df['fare_amount']\n",
    "\n",
    "hist = model.fit(x, y, validation_split=0.2, epochs=100, batch_size=100)"
   ]
  },
  {
   "cell_type": "markdown",
   "metadata": {},
   "source": [
    "Plot the training accuracy and validation accuracy over time."
   ]
  },
  {
   "cell_type": "code",
   "execution_count": 5,
   "metadata": {},
   "outputs": [
    {
     "data": {
      "text/plain": [
       "[]"
      ]
     },
     "execution_count": 5,
     "metadata": {},
     "output_type": "execute_result"
    },
    {
     "data": {
      "image/png": "[encoded data removed]",
      "text/plain": [
       "<Figure size 432x288 with 1 Axes>"
      ]
     },
     "metadata": {},
     "output_type": "display_data"
    }
   ],
   "source": [
    "%matplotlib inline\n",
    "import matplotlib.pyplot as plt\n",
    "import seaborn as sns\n",
    "sns.set()\n",
    "\n",
    "err = hist.history['mae']\n",
    "val_err = hist.history['val_mae']\n",
    "epochs = range(1, len(err) + 1)\n",
    "\n",
    "plt.plot(epochs, err, '-', label='Training MAE')\n",
    "plt.plot(epochs, val_err, ':', label='Validation MAE')\n",
    "plt.title('Training and Validation Accuracy')\n",
    "plt.xlabel('Epoch')\n",
    "plt.ylabel('Mean Absolute Error')\n",
    "plt.legend(loc='upper right')\n",
    "plt.plot()"
   ]
  },
  {
   "cell_type": "markdown",
   "metadata": {},
   "source": [
    "Get the coefficient of determination (R2) to determine how accurate the model is."
   ]
  },
  {
   "cell_type": "code",
   "execution_count": 6,
   "metadata": {},
   "outputs": [
    {
     "name": "stdout",
     "output_type": "stream",
     "text": [
      "729/729 [==============================] - 1s 697us/step\n"
     ]
    },
    {
     "data": {
      "text/plain": [
       "0.7510869031297862"
      ]
     },
     "execution_count": 6,
     "metadata": {},
     "output_type": "execute_result"
    }
   ],
   "source": [
    "from sklearn.metrics import r2_score\n",
    "\n",
    "r2_score(y, model.predict(x))"
   ]
  },
  {
   "cell_type": "markdown",
   "metadata": {},
   "source": [
    "## Use the model to predict fare amounts\n",
    "\n",
    "Finish up by using the trained model to make a pair of predictions. First, estimate what it will cost to hire a taxi for a 2-mile trip at 5:00 p.m. on Friday afternoon."
   ]
  },
  {
   "cell_type": "code",
   "execution_count": 7,
   "metadata": {},
   "outputs": [
    {
     "name": "stdout",
     "output_type": "stream",
     "text": [
      "1/1 [==============================] - 0s 32ms/step\n"
     ]
    },
    {
     "data": {
      "text/plain": [
       "array([[10.62019]], dtype=float32)"
      ]
     },
     "execution_count": 7,
     "metadata": {},
     "output_type": "execute_result"
    }
   ],
   "source": [
    "import numpy as np\n",
    "\n",
    "model.predict(np.array([[4, 17, 2.0]]))"
   ]
  },
  {
   "cell_type": "markdown",
   "metadata": {},
   "source": [
    "Now predict the fare amount for a 2-mile trip taken at 5:00 p.m. one day later (on Saturday)."
   ]
  },
  {
   "cell_type": "code",
   "execution_count": 8,
   "metadata": {},
   "outputs": [
    {
     "name": "stdout",
     "output_type": "stream",
     "text": [
      "1/1 [==============================] - 0s 12ms/step\n"
     ]
    },
    {
     "data": {
      "text/plain": [
       "array([[10.402352]], dtype=float32)"
      ]
     },
     "execution_count": 8,
     "metadata": {},
     "output_type": "execute_result"
    }
   ],
   "source": [
    "model.predict(np.array([[5, 17, 2.0]]))"
   ]
  }
 ],
 "metadata": {
  "kernelspec": {
   "display_name": "Python 3",
   "language": "python",
   "name": "python3"
  },
  "language_info": {
   "codemirror_mode": {
    "name": "ipython",
    "version": 3
   },
   "file_extension": ".py",
   "mimetype": "text/x-python",
   "name": "python",
   "nbconvert_exporter": "python",
   "pygments_lexer": "ipython3",
   "version": "3.8.5"
  }
 },
 "nbformat": 4,
 "nbformat_minor": 2
}
